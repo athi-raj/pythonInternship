{
  "nbformat": 4,
  "nbformat_minor": 0,
  "metadata": {
    "colab": {
      "provenance": [],
      "authorship_tag": "ABX9TyN7qX3dIflU9nE3y39S1lxW",
      "include_colab_link": true
    },
    "kernelspec": {
      "name": "python3",
      "display_name": "Python 3"
    },
    "language_info": {
      "name": "python"
    }
  },
  "cells": [
    {
      "cell_type": "markdown",
      "metadata": {
        "id": "view-in-github",
        "colab_type": "text"
      },
      "source": [
        "<a href=\"https://colab.research.google.com/github/athi-raj/pythonInternship/blob/main/day1activity.ipynb\" target=\"_parent\"><img src=\"https://colab.research.google.com/assets/colab-badge.svg\" alt=\"Open In Colab\"/></a>"
      ]
    },
    {
      "cell_type": "markdown",
      "source": [
        "Python-Practice Problems"
      ],
      "metadata": {
        "id": "u0ayR0bnEbnb"
      }
    },
    {
      "cell_type": "code",
      "execution_count": null,
      "metadata": {
        "colab": {
          "base_uri": "https://localhost:8080/"
        },
        "id": "xd1vhtRiEb_z",
        "outputId": "c6347e68-fa71-4715-e354-8b5ebeeb731f"
      },
      "outputs": [
        {
          "output_type": "stream",
          "name": "stdout",
          "text": [
            "Enter your name: athi\n",
            "Welcome to AI and ML athi\n"
          ]
        }
      ],
      "source": [
        "name = input(\"Enter your name: \")\n",
        "print(\"Welcome to AI and ML\", name)"
      ]
    },
    {
      "cell_type": "code",
      "source": [],
      "metadata": {
        "id": "sBZ1OJ-0FLI8"
      },
      "execution_count": null,
      "outputs": []
    },
    {
      "cell_type": "code",
      "source": [
        "fav = input(\"Enter your fav snack\")\n",
        "print(\"Life’s better with a bag of\", fav)"
      ],
      "metadata": {
        "colab": {
          "base_uri": "https://localhost:8080/"
        },
        "id": "bM9CLdPq1KzL",
        "outputId": "bf3050a1-fe29-44a8-80a0-bde6580e36cf"
      },
      "execution_count": null,
      "outputs": [
        {
          "output_type": "stream",
          "name": "stdout",
          "text": [
            "Enter your fav snackkurkure\n",
            "Life’s better with a bag of kurkure\n"
          ]
        }
      ]
    },
    {
      "cell_type": "code",
      "source": [
        "tasks = 15\n",
        "to_complete = tasks * 2\n",
        "\n",
        "print(\"Tasks expected to be completed next week:\", to_complete)"
      ],
      "metadata": {
        "colab": {
          "base_uri": "https://localhost:8080/"
        },
        "id": "XXy0Xm965YSX",
        "outputId": "b9b56daf-62ce-403d-d868-ba57c813d761"
      },
      "execution_count": null,
      "outputs": [
        {
          "output_type": "stream",
          "name": "stdout",
          "text": [
            "Tasks expected to be completed next week: 30\n"
          ]
        }
      ]
    },
    {
      "cell_type": "code",
      "source": [
        "income = float(input(\"Enter the income amount: \"))\n",
        "expenses = float(input(\"Enter the expense amount: \"))\n",
        "\n",
        "savings = income - expenses\n",
        "print(\"Monthly Savings:\", savings)"
      ],
      "metadata": {
        "colab": {
          "base_uri": "https://localhost:8080/"
        },
        "id": "s7wEX02p7RZg",
        "outputId": "4691dd00-2aac-4f84-89ac-da72c4e2e11e"
      },
      "execution_count": null,
      "outputs": [
        {
          "output_type": "stream",
          "name": "stdout",
          "text": [
            "Enter the income amount: 5000\n",
            "Enter the expense amount: 2000\n",
            "Monthly Savings: 3000.0\n"
          ]
        }
      ]
    },
    {
      "cell_type": "code",
      "source": [
        "invited_friends =  float(input(\"Enter the no.of invited frinds \"))\n",
        "popcorn_per_person =  float(input(\"Enter the popcorn no. for each friend \"))\n",
        "\n",
        "total_popcorn_bags = invited_friends * popcorn_per_person\n",
        "\n",
        "print(\"Total popcorn bags needed:\", total_popcorn_bags)"
      ],
      "metadata": {
        "id": "Q-Khr68i9Nr0",
        "colab": {
          "base_uri": "https://localhost:8080/"
        },
        "outputId": "b96db295-b39c-421b-8aa2-381240058719"
      },
      "execution_count": null,
      "outputs": [
        {
          "output_type": "stream",
          "name": "stdout",
          "text": [
            "Enter the no.of invited frinds5\n",
            "Enter the popcorn no. for each friend2\n",
            "Total popcorn bags needed: 10.0\n"
          ]
        }
      ]
    },
    {
      "cell_type": "code",
      "source": [
        "rating = int(input(\"Enter product rating (1 - 5) \"))\n",
        "if rating > 5 or rating < 1:\n",
        "    print(\"Invalid rating. Please enter a number between 1 and 5.\")\n",
        "elif rating > 3:\n",
        "    print(\"Thank you! You gave an above-average rating.\")\n",
        "else:\n",
        "    print(\"Thanks for your feedback. We'll try to do better!\")"
      ],
      "metadata": {
        "colab": {
          "base_uri": "https://localhost:8080/"
        },
        "id": "UOJuLSKfATSp",
        "outputId": "f4471d7e-1842-4aaa-cbb3-a9f7eaa3d245"
      },
      "execution_count": null,
      "outputs": [
        {
          "output_type": "stream",
          "name": "stdout",
          "text": [
            "Enter product rating (1 - 5) 4\n",
            "Thank you! You gave an above-average rating.\n"
          ]
        }
      ]
    },
    {
      "cell_type": "code",
      "source": [
        "last_month = 50\n",
        "this_month = 75\n",
        "next_month = 100\n",
        "total_items = last_month + this_month + next_month\n",
        "average_items = total_items / 3\n",
        "print(\"Average items sold over thses 3 months:\", average_items)\n"
      ],
      "metadata": {
        "colab": {
          "base_uri": "https://localhost:8080/"
        },
        "id": "yyZ6x2vkApP6",
        "outputId": "66a71493-ec6c-449b-e87a-99504aa6e7cf"
      },
      "execution_count": null,
      "outputs": [
        {
          "output_type": "stream",
          "name": "stdout",
          "text": [
            "Average items sold over 3 months: 75.0\n"
          ]
        }
      ]
    },
    {
      "cell_type": "code",
      "source": [
        "p = 500\n",
        "r = 4\n",
        "t = 3\n",
        "si = (p * r * t) / 100\n",
        "total_amount = p + si\n",
        "print(\"Simple Interest:\", si)\n",
        "print(\"Total Amount after 3 years:\", total_amount)\n"
      ],
      "metadata": {
        "colab": {
          "base_uri": "https://localhost:8080/"
        },
        "id": "aEShal77BTEl",
        "outputId": "b60b86a3-8795-408e-8a2e-ff81f3ae5e0e"
      },
      "execution_count": null,
      "outputs": [
        {
          "output_type": "stream",
          "name": "stdout",
          "text": [
            "Simple Interest: 60.0\n",
            "Total Amount after 3 years: 560.0\n"
          ]
        }
      ]
    },
    {
      "cell_type": "code",
      "source": [
        "guests = 10\n",
        "slice_for_guest = 1\n",
        "slices_for_cake = 8\n",
        "\n",
        "total_slices_needed = guests * slice_for_guest\n",
        "cakes_needed = total_slices_needed / slices_for_cake\n",
        "import math\n",
        "cakes_needed = math.ceil(cakes_needed)\n",
        "print(\"Cakes needed for the party:\", cakes_needed)\n"
      ],
      "metadata": {
        "colab": {
          "base_uri": "https://localhost:8080/"
        },
        "id": "tYxfcrb9BuJ0",
        "outputId": "04ad643e-441b-427f-9a13-96642adc1ac3"
      },
      "execution_count": null,
      "outputs": [
        {
          "output_type": "stream",
          "name": "stdout",
          "text": [
            "Cakes needed for the party: 2\n"
          ]
        }
      ]
    },
    {
      "cell_type": "code",
      "source": [
        "slogan = input(\"Enter the slogan: \")\n",
        "if len(slogan) > 10:\n",
        "    print(\"Big and Impactful one\")\n",
        "else:\n",
        "    print(\"Short and catchy – nice! ✨\")\n"
      ],
      "metadata": {
        "colab": {
          "base_uri": "https://localhost:8080/"
        },
        "id": "Rq4vRkV9CXJ7",
        "outputId": "eaec8b98-334e-4f56-ba98-c2a2c586d373"
      },
      "execution_count": null,
      "outputs": [
        {
          "output_type": "stream",
          "name": "stdout",
          "text": [
            "Enter the slogan: For every now there will be a subsequent tommorrow\n",
            "Impactful one\n"
          ]
        }
      ]
    },
    {
      "cell_type": "code",
      "source": [
        "product_A_sales = 250\n",
        "product_B_sales = 300\n",
        "if product_A_sales > product_B_sales:\n",
        "    print(\"Product A sold more in no.\")\n",
        "elif product_B_sales > product_A_sales:\n",
        "    print(\"Product B sold more in no.\")\n",
        "else:\n",
        "    print(\"Both products sold equally well!\")\n"
      ],
      "metadata": {
        "colab": {
          "base_uri": "https://localhost:8080/"
        },
        "id": "Vq2xzsHcC977",
        "outputId": "07ec081e-ca70-4fdf-d72a-fd42d6db56d9"
      },
      "execution_count": null,
      "outputs": [
        {
          "output_type": "stream",
          "name": "stdout",
          "text": [
            "Product B sold more in no.\n"
          ]
        }
      ]
    },
    {
      "cell_type": "code",
      "source": [
        "scholarship_received = 750\n",
        "total_amount = 1000\n",
        "percentage = (scholarship_received / total_amount) * 100\n",
        "print(f\"Congratulations! You received {percentage:.2f}% of the scholarship. \")\n"
      ],
      "metadata": {
        "colab": {
          "base_uri": "https://localhost:8080/"
        },
        "id": "p8hdUl5kDVNJ",
        "outputId": "a4907747-b120-4ff2-de21-6f7a10653587"
      },
      "execution_count": null,
      "outputs": [
        {
          "output_type": "stream",
          "name": "stdout",
          "text": [
            "Congratulations! You received 75.00% of the scholarship. \n"
          ]
        }
      ]
    },
    {
      "cell_type": "code",
      "source": [
        "fav_color = \"Black\"\n",
        "print(\"My favorite color is:\", fav_color)\n"
      ],
      "metadata": {
        "colab": {
          "base_uri": "https://localhost:8080/"
        },
        "id": "D_Vjo0ENDheo",
        "outputId": "3fb4dd57-ba24-49cc-d3b5-d93792d9a4a1"
      },
      "execution_count": null,
      "outputs": [
        {
          "output_type": "stream",
          "name": "stdout",
          "text": [
            "My favorite color is: Black\n"
          ]
        }
      ]
    },
    {
      "cell_type": "code",
      "source": [
        "a = 10\n",
        "b = 20\n",
        "sum = a + b\n",
        "print(\"The sum is:\", sum)\n"
      ],
      "metadata": {
        "colab": {
          "base_uri": "https://localhost:8080/"
        },
        "id": "ANK_EOj6DxOh",
        "outputId": "2fe7e193-ec6e-4473-ff68-1932fad917f3"
      },
      "execution_count": null,
      "outputs": [
        {
          "output_type": "stream",
          "name": "stdout",
          "text": [
            "The sum is: 30\n"
          ]
        }
      ]
    },
    {
      "cell_type": "code",
      "source": [
        "length = 8\n",
        "width = 5\n",
        "area = length * width\n",
        "print(\"The area of the rectangle is:\", area)"
      ],
      "metadata": {
        "colab": {
          "base_uri": "https://localhost:8080/"
        },
        "id": "yvBXTCL2D-AD",
        "outputId": "dd7460e8-925d-401a-ed23-66d29ca1558e"
      },
      "execution_count": null,
      "outputs": [
        {
          "output_type": "stream",
          "name": "stdout",
          "text": [
            "The area of the rectangle is: 40\n"
          ]
        }
      ]
    },
    {
      "cell_type": "code",
      "source": [
        "num = 500\n",
        "if num % 2 == 0:\n",
        "    print(f\"{num} is even.\")\n",
        "else:\n",
        "    print(f\"{num} is odd.\")\n"
      ],
      "metadata": {
        "colab": {
          "base_uri": "https://localhost:8080/"
        },
        "id": "lZbfZvWDENzc",
        "outputId": "397efe5e-cf28-4972-ea27-3f4f74a94fe3"
      },
      "execution_count": null,
      "outputs": [
        {
          "output_type": "stream",
          "name": "stdout",
          "text": [
            "15 is odd.\n"
          ]
        }
      ]
    },
    {
      "cell_type": "code",
      "source": [
        "num1 = 10\n",
        "num2 = 20\n",
        "num3 = 30\n",
        "average = (num1 + num2 + num3) / 3\n",
        "print(\"The average is:\", average)\n"
      ],
      "metadata": {
        "colab": {
          "base_uri": "https://localhost:8080/"
        },
        "id": "flTcCDR6EYjI",
        "outputId": "308770bd-4cdd-4ed6-c1f3-5aef13580c52"
      },
      "execution_count": null,
      "outputs": [
        {
          "output_type": "stream",
          "name": "stdout",
          "text": [
            "The average is: 20.0\n"
          ]
        }
      ]
    },
    {
      "cell_type": "code",
      "source": [
        "radius = 7\n",
        "area = 3.14 * radius ** 2\n",
        "print(\"The area of the circle is:\", round(area, 2))"
      ],
      "metadata": {
        "colab": {
          "base_uri": "https://localhost:8080/"
        },
        "id": "xAPT63wgEwgs",
        "outputId": "784f5709-bd4a-46ba-8a18-bc94739adcb1"
      },
      "execution_count": null,
      "outputs": [
        {
          "output_type": "stream",
          "name": "stdout",
          "text": [
            "The area of the circle is: 153.86\n"
          ]
        }
      ]
    },
    {
      "cell_type": "code",
      "source": [
        "text = \"Python\"\n",
        "if len(text) > 6:\n",
        "    print(\"The text has more than 6 characters.\")\n",
        "else:\n",
        "    print(\"The text has 6 or fewer characters.\")\n"
      ],
      "metadata": {
        "colab": {
          "base_uri": "https://localhost:8080/"
        },
        "id": "jNHBth6lE-Ez",
        "outputId": "aec60ce4-e1e7-4332-fba4-4ad24ce6311a"
      },
      "execution_count": null,
      "outputs": [
        {
          "output_type": "stream",
          "name": "stdout",
          "text": [
            "The text has 6 or fewer characters.\n"
          ]
        }
      ]
    },
    {
      "cell_type": "code",
      "source": [
        "num1 = 15\n",
        "num2 = 25\n",
        "maximum = max(num1, num2)\n",
        "print(\"The maximum number is:\", maximum)\n"
      ],
      "metadata": {
        "colab": {
          "base_uri": "https://localhost:8080/"
        },
        "id": "wER7S_WSFIh_",
        "outputId": "1b8a4bb5-26ea-4937-dba5-6dafb673a3e1"
      },
      "execution_count": null,
      "outputs": [
        {
          "output_type": "stream",
          "name": "stdout",
          "text": [
            "The maximum number is: 25\n"
          ]
        }
      ]
    },
    {
      "cell_type": "code",
      "source": [
        "total_marks = 500\n",
        "obtained_marks = 400\n",
        "percentage = (obtained_marks / total_marks) * 100\n",
        "print(\"Percentage:\", percentage, \"%\")\n"
      ],
      "metadata": {
        "colab": {
          "base_uri": "https://localhost:8080/"
        },
        "id": "fFBJTsf6FTVI",
        "outputId": "8ef95c12-f20d-4a95-d70b-c51bb4efc75a"
      },
      "execution_count": null,
      "outputs": [
        {
          "output_type": "stream",
          "name": "stdout",
          "text": [
            "Percentage: 80.0 %\n"
          ]
        }
      ]
    },
    {
      "cell_type": "markdown",
      "source": [
        "PRACTICE EXERCISES ON PYTHON BASICS -2\n"
      ],
      "metadata": {
        "id": "F2rVkHT7FXaV"
      }
    },
    {
      "cell_type": "code",
      "source": [
        "\n",
        "text = input(\"Enter a string value: \")\n",
        "char_count = {}\n",
        "for char in text:\n",
        "    if char in char_count:\n",
        "        char_count[char] += 1\n",
        "    else:\n",
        "        char_count[char] = 1\n",
        "for char, count in char_count.items():\n",
        "    print(f\"{char}={count}\", end=\", \")\n",
        "\n",
        "\n"
      ],
      "metadata": {
        "colab": {
          "base_uri": "https://localhost:8080/"
        },
        "id": "2iRuwlZ0Fv-z",
        "outputId": "04af964e-719b-44f1-bcd7-aef97574125c"
      },
      "execution_count": null,
      "outputs": [
        {
          "output_type": "stream",
          "name": "stdout",
          "text": [
            "Enter a string value: 4\n",
            "4=1, "
          ]
        }
      ]
    },
    {
      "cell_type": "code",
      "source": [
        "def maximum_of_three(num1, num2, num3):\n",
        "    return max(num1, num2, num3)\n",
        "print(maximum_of_three(45, 18, 23))"
      ],
      "metadata": {
        "colab": {
          "base_uri": "https://localhost:8080/"
        },
        "id": "EHARdWPFGEqu",
        "outputId": "934e2506-6f61-4363-9a03-7614f7887494"
      },
      "execution_count": null,
      "outputs": [
        {
          "output_type": "stream",
          "name": "stdout",
          "text": [
            "45\n"
          ]
        }
      ]
    },
    {
      "cell_type": "code",
      "source": [
        "def power_of_number(base_number, exponent_number):\n",
        "    return base_number ** exponent_number\n",
        "print(power_of_number(4, 5))\n",
        "\n"
      ],
      "metadata": {
        "colab": {
          "base_uri": "https://localhost:8080/"
        },
        "id": "4y4hyXwIGM6h",
        "outputId": "1a023fae-494c-4a3a-a436-110520f46b30"
      },
      "execution_count": null,
      "outputs": [
        {
          "output_type": "stream",
          "name": "stdout",
          "text": [
            "1024\n"
          ]
        }
      ]
    },
    {
      "cell_type": "code",
      "source": [
        "def sum_of_cubes(limit_number):\n",
        "    return sum(i**3 for i in range(1, limit_number + 1))\n",
        "print(sum_of_cubes(6))\n",
        "\n"
      ],
      "metadata": {
        "colab": {
          "base_uri": "https://localhost:8080/"
        },
        "id": "iwpntR3yGQNJ",
        "outputId": "edf541f3-ece5-4405-e4e0-67550792dcb7"
      },
      "execution_count": null,
      "outputs": [
        {
          "output_type": "stream",
          "name": "stdout",
          "text": [
            "441\n"
          ]
        }
      ]
    },
    {
      "cell_type": "code",
      "source": [
        "for number in range(1, 16):\n",
        "    if number % 2 == 0 and number % 5 == 0:\n",
        "        print(\"FizzBuzz\")\n",
        "    elif number % 2 == 0:\n",
        "        print(\"Fizz\")\n",
        "    elif number % 5 == 0:\n",
        "        print(\"Buzz\")\n",
        "    else:\n",
        "        print(number)\n"
      ],
      "metadata": {
        "colab": {
          "base_uri": "https://localhost:8080/"
        },
        "id": "_8K1kXvzGSXl",
        "outputId": "59d22421-817d-4d3f-b1e6-9e76047955c8"
      },
      "execution_count": null,
      "outputs": [
        {
          "output_type": "stream",
          "name": "stdout",
          "text": [
            "1\n",
            "Fizz\n",
            "3\n",
            "Fizz\n",
            "Buzz\n",
            "Fizz\n",
            "7\n",
            "Fizz\n",
            "9\n",
            "FizzBuzz\n",
            "11\n",
            "Fizz\n",
            "13\n",
            "Fizz\n",
            "Buzz\n"
          ]
        }
      ]
    },
    {
      "cell_type": "code",
      "source": [
        "numbers_list = [3, 5, 3, 6, 3, 7, 8, 3]\n",
        "most_frequent = max(set(numbers_list), key=numbers_list.count)\n",
        "print(most_frequent)\n",
        "\n"
      ],
      "metadata": {
        "colab": {
          "base_uri": "https://localhost:8080/"
        },
        "id": "DoFmeChrGXLQ",
        "outputId": "cf48c994-43d1-40ca-dad4-845f00518b86"
      },
      "execution_count": null,
      "outputs": [
        {
          "output_type": "stream",
          "name": "stdout",
          "text": [
            "3\n"
          ]
        }
      ]
    },
    {
      "cell_type": "code",
      "source": [
        "square_list = [4, 2, 5, 3]\n",
        "sum_of_squares = sum(x**2 for x in square_list)\n",
        "print(sum_of_squares)\n",
        "\n"
      ],
      "metadata": {
        "colab": {
          "base_uri": "https://localhost:8080/"
        },
        "id": "PEdYhr33GdvX",
        "outputId": "4f7f9332-d6be-4ac8-8e7e-1701bfd66aa0"
      },
      "execution_count": null,
      "outputs": [
        {
          "output_type": "stream",
          "name": "stdout",
          "text": [
            "54\n"
          ]
        }
      ]
    },
    {
      "cell_type": "code",
      "source": [
        "for num in range(1, 20):\n",
        "    print(f\"{num}-{'even' if num % 2 == 0 else 'odd'}\")\n"
      ],
      "metadata": {
        "colab": {
          "base_uri": "https://localhost:8080/"
        },
        "id": "EqcSA_HGGhOB",
        "outputId": "d473689b-fa7b-49b1-f96e-b3cc7cfe2ddf"
      },
      "execution_count": null,
      "outputs": [
        {
          "output_type": "stream",
          "name": "stdout",
          "text": [
            "1-odd\n",
            "2-even\n",
            "3-odd\n",
            "4-even\n",
            "5-odd\n",
            "6-even\n",
            "7-odd\n",
            "8-even\n",
            "9-odd\n",
            "10-even\n",
            "11-odd\n",
            "12-even\n",
            "13-odd\n",
            "14-even\n",
            "15-odd\n",
            "16-even\n",
            "17-odd\n",
            "18-even\n",
            "19-odd\n"
          ]
        }
      ]
    },
    {
      "cell_type": "code",
      "source": [
        "fahrenheit_temp = 68\n",
        "celsius_temp = (fahrenheit_temp - 32) * 5 / 9\n",
        "print(celsius_temp)"
      ],
      "metadata": {
        "colab": {
          "base_uri": "https://localhost:8080/"
        },
        "id": "mB4zKKXhGkJB",
        "outputId": "fffc5a18-34ee-470f-d037-0999ec374d63"
      },
      "execution_count": null,
      "outputs": [
        {
          "output_type": "stream",
          "name": "stdout",
          "text": [
            "20.0\n"
          ]
        }
      ]
    },
    {
      "cell_type": "code",
      "source": [
        "def factorial_of_number(positive_integer):\n",
        "    result = 1\n",
        "    for i in range(2, positive_integer + 1):\n",
        "        result *= i\n",
        "    return result\n",
        "print(factorial_of_number(5))"
      ],
      "metadata": {
        "colab": {
          "base_uri": "https://localhost:8080/"
        },
        "id": "pWm0mukXGnnj",
        "outputId": "5d64dd3b-a463-4207-efd5-eb60a202657e"
      },
      "execution_count": null,
      "outputs": [
        {
          "output_type": "stream",
          "name": "stdout",
          "text": [
            "120\n"
          ]
        }
      ]
    }
  ]
}